{
 "cells": [
  {
   "cell_type": "code",
   "execution_count": 4,
   "id": "b6a95d4c",
   "metadata": {},
   "outputs": [
    {
     "name": "stdout",
     "output_type": "stream",
     "text": [
      "'characters.json' 파일에서 기존 데이터를 성공적으로 로드했습니다. (현재 인물 수: 41)\n",
      "\n",
      "--- 새로운 인물 정보 입력 ---\n",
      "'유비'(은)는 이미 데이터에 있습니다. [주군: 유비, 역할: 촉한의 군주]\n",
      "업데이트를 건너뛰고 다음 인물을 입력합니다.\n",
      "\n",
      "--- 새로운 인물 정보 입력 ---\n",
      "'국의' 정보를 추가/업데이트했습니다.\n",
      "\n",
      "'characters.json' 파일이 성공적으로 갱신되었습니다! 🎉\n",
      "최종 총 인물 수: 42\n"
     ]
    }
   ],
   "source": [
    "import json\n",
    "import os\n",
    "\n",
    "# characters.json 파일 경로\n",
    "json_file_path = 'characters.json'\n",
    "\n",
    "# 1. 기존 characters.json 파일 로드\n",
    "# 파일이 없으면 빈 딕셔너리로 시작\n",
    "samgukji_characters = {}\n",
    "if os.path.exists(json_file_path):\n",
    "    with open(json_file_path, 'r', encoding='utf-8') as f:\n",
    "        samgukji_characters = json.load(f)\n",
    "    print(f\"'{json_file_path}' 파일에서 기존 데이터를 성공적으로 로드했습니다. (현재 인물 수: {len(samgukji_characters)})\")\n",
    "else:\n",
    "    print(f\"'{json_file_path}' 파일이 없어 새 데이터베이스를 시작합니다. 📚\")\n",
    "\n",
    "# 2. 사용자로부터 인물 정보 입력받기 (반복)\n",
    "while True:\n",
    "    print(\"\\n--- 새로운 인물 정보 입력 ---\")\n",
    "    person_name = input(\"인물 이름 (한글): \").strip()\n",
    "\n",
    "    if not person_name:\n",
    "        print(\"인물 이름은 필수 입력입니다. 입력을 중단합니다.\")\n",
    "        break\n",
    "\n",
    "    # 이미 존재하는 인물인지 확인\n",
    "    if person_name in samgukji_characters:\n",
    "        current_master = samgukji_characters[person_name][0]\n",
    "        current_role = samgukji_characters[person_name][1]\n",
    "        print(f\"'{person_name}'(은)는 이미 데이터에 있습니다. [주군: {current_master}, 역할: {current_role}]\")\n",
    "        overwrite = input(\"정보를 업데이트하시겠습니까? (y/n): \").strip().lower()\n",
    "        if overwrite != 'y':\n",
    "            print(\"업데이트를 건너뛰고 다음 인물을 입력합니다.\")\n",
    "            continue # 다음 반복으로 넘어감\n",
    "\n",
    "    master_name = input(f\"'{person_name}'의 주군 (한글): \").strip()\n",
    "    role = input(f\"'{person_name}'의 역할: \").strip()\n",
    "\n",
    "    if not master_name or not role:\n",
    "        print(\"주군과 역할은 필수 입력입니다. 이 인물 추가를 건너뜀니다.\")\n",
    "    else:\n",
    "        samgukji_characters[person_name] = [master_name, role]\n",
    "        print(f\"'{person_name}' 정보를 추가/업데이트했습니다.\")\n",
    "\n",
    "    add_more = input(\"계속해서 인물을 추가하시겠습니까? (y/n): \").strip().lower()\n",
    "    if add_more != 'y':\n",
    "        break\n",
    "\n",
    "# 3. 업데이트된 딕셔너리를 JSON 파일로 저장\n",
    "try:\n",
    "    with open(json_file_path, 'w', encoding='utf-8') as f:\n",
    "        json.dump(samgukji_characters, f, ensure_ascii=False, indent=4)\n",
    "    print(f\"\\n'{json_file_path}' 파일이 성공적으로 갱신되었습니다! 🎉\")\n",
    "    print(f\"최종 총 인물 수: {len(samgukji_characters)}\")\n",
    "except Exception as e:\n",
    "    print(f\"\\n파일 저장 중 오류가 발생했습니다: {e} ❌\")"
   ]
  }
 ],
 "metadata": {
  "kernelspec": {
   "display_name": "Python 3",
   "language": "python",
   "name": "python3"
  },
  "language_info": {
   "codemirror_mode": {
    "name": "ipython",
    "version": 3
   },
   "file_extension": ".py",
   "mimetype": "text/x-python",
   "name": "python",
   "nbconvert_exporter": "python",
   "pygments_lexer": "ipython3",
   "version": "3.12.1"
  }
 },
 "nbformat": 4,
 "nbformat_minor": 5
}
