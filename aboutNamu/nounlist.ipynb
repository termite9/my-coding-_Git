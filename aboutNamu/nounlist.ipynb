{
 "cells": [
  {
   "cell_type": "code",
   "execution_count": 9,
   "id": "fe653a76",
   "metadata": {},
   "outputs": [
    {
     "name": "stdout",
     "output_type": "stream",
     "text": [
      "['가문비나무', '낙엽송', '느티나무', '단풍나무', '벚나무', '삼나무', '소나무', '아카시아나무', '이팝나무', '잣나무', '전나무', '참나무', '측백나무', '편백나무', '히말라야시다'] ;\n"
     ]
    }
   ],
   "source": [
    "###  이미지명을 검색하여 nounList를 만들어주는 파이썬 프로그램 ####\n",
    "\n",
    "import os\n",
    "\n",
    "def generate_noun_list_from_images(image_folder='images'): # <-- 이 부분을 'static/images' 또는 실제 경로로 수정\n",
    "    \"\"\"\n",
    "    지정된 폴더에서 이미지 파일명을 스캔하여 nounList를 생성합니다.\n",
    "    파일명의 맨 뒤 숫자(예: '나비1.png'의 '1')를 제거하고,\n",
    "    중복 없이 고유한 이름들만 리스트에 담습니다.\n",
    "\n",
    "    Args:\n",
    "        image_folder (str): 이미지가 저장된 폴더 경로. 기본값은 'images'.\n",
    "\n",
    "    Returns:\n",
    "        list: 정리된 명사(곤충) 이름들의 리스트.\n",
    "    \"\"\"\n",
    "    noun_set = set() # 중복을 자동으로 제거하기 위해 set 사용\n",
    "    \n",
    "    # 폴더가 존재하는지 확인\n",
    "    if not os.path.exists(image_folder):\n",
    "        print(f\"오류: 이미지 폴더 '{image_folder}'를 찾을 수 없습니다.\")\n",
    "        return []\n",
    "\n",
    "    # 폴더 내의 모든 파일 목록 가져오기\n",
    "    for filename in os.listdir(image_folder):\n",
    "        # .png 파일만 처리\n",
    "        if filename.lower().endswith('.png'):\n",
    "            base_name = os.path.splitext(filename)[0]\n",
    "            \n",
    "            cleaned_name = ''\n",
    "            for char in base_name:\n",
    "                if char.isalpha(): \n",
    "                    cleaned_name += char\n",
    "                else: \n",
    "                    break \n",
    "            \n",
    "            if cleaned_name: \n",
    "                noun_set.add(cleaned_name)\n",
    "    \n",
    "    noun_list = sorted(list(noun_set))\n",
    "    return noun_list\n",
    "\n",
    "if __name__ == \"__main__\":\n",
    "    # 이 스크립트를 직접 실행할 때 사용될 이미지 폴더 경로를 정확히 지정해주세요!\n",
    "    # 예시:\n",
    "    # 현재 generate_nouns.py와 같은 위치에 images 폴더가 있다면:\n",
    "    image_directory = 'images' \n",
    "    \n",
    "    # 만약 static/images 폴더 안에 이미지가 있다면 (app.py 기준):\n",
    "    # image_directory = 'static/images' \n",
    "    \n",
    "    # 또는 절대 경로를 사용 (운영체제마다 다름):\n",
    "    # image_directory = '/Users/yourusername/Documents/your_quiz_game/static/images' # macOS/Linux\n",
    "    # image_directory = 'C:\\\\Users\\\\yourusername\\\\Documents\\\\your_quiz_game\\\\static\\\\images' # Windows\n",
    "    \n",
    "    generated_noun_list = generate_noun_list_from_images(image_directory)\n",
    "    \n",
    "    print(generated_noun_list,';')"
   ]
  }
 ],
 "metadata": {
  "kernelspec": {
   "display_name": "Python 3",
   "language": "python",
   "name": "python3"
  },
  "language_info": {
   "codemirror_mode": {
    "name": "ipython",
    "version": 3
   },
   "file_extension": ".py",
   "mimetype": "text/x-python",
   "name": "python",
   "nbconvert_exporter": "python",
   "pygments_lexer": "ipython3",
   "version": "3.12.1"
  }
 },
 "nbformat": 4,
 "nbformat_minor": 5
}
